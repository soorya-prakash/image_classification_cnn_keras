{
 "cells": [
  {
   "cell_type": "code",
   "execution_count": 1,
   "metadata": {},
   "outputs": [
    {
     "name": "stderr",
     "output_type": "stream",
     "text": [
      "Using TensorFlow backend.\n"
     ]
    }
   ],
   "source": [
    "import numpy as np\n",
    "import pandas as pd\n",
    "import keras \n",
    "import os\n",
    "import cv2\n",
    "from keras.models import Sequential\n",
    "from keras.layers import Dense, Conv2D, MaxPooling2D, Dropout, Flatten"
   ]
  },
  {
   "cell_type": "code",
   "execution_count": 2,
   "metadata": {},
   "outputs": [],
   "source": [
    "import matplotlib.pyplot as plt\n",
    "% matplotlib inline"
   ]
  },
  {
   "cell_type": "code",
   "execution_count": 3,
   "metadata": {},
   "outputs": [],
   "source": [
    "train_img_path=r\"E:\\backup\\python_image_classification\\images\\train_set\"\n",
    "test_img_path=r\"E:\\backup\\python_image_classification\\images\\test_set\""
   ]
  },
  {
   "cell_type": "code",
   "execution_count": 5,
   "metadata": {},
   "outputs": [],
   "source": [
    "def read_img_train(path):\n",
    "    label=[]\n",
    "    data1=[]\n",
    "    counter=0\n",
    "    for file in os.listdir(path):\n",
    "        image_data=cv2.imread(os.path.join(path,file), cv2.IMREAD_GRAYSCALE)\n",
    "        image_data=cv2.resize(image_data,(150,150))\n",
    "        if file.startswith(\"one\"):\n",
    "            label.append(1)\n",
    "        elif file.startswith(\"two\"):\n",
    "            label.append(2)\n",
    "        elif file.startswith(\"five\"):\n",
    "            label.append(0)\n",
    "        try:\n",
    "            data1.append(image_data/255)\n",
    "        except:\n",
    "            label=label[:len(label)-1]\n",
    "        counter+=1\n",
    "        if counter % 10==0:\n",
    "            print (counter,\" image data retreived\")\n",
    "    return label,data1"
   ]
  },
  {
   "cell_type": "code",
   "execution_count": 6,
   "metadata": {},
   "outputs": [
    {
     "name": "stdout",
     "output_type": "stream",
     "text": [
      "10  image data retreived\n",
      "20  image data retreived\n",
      "30  image data retreived\n",
      "40  image data retreived\n",
      "50  image data retreived\n",
      "60  image data retreived\n",
      "70  image data retreived\n",
      "80  image data retreived\n",
      "90  image data retreived\n",
      "100  image data retreived\n"
     ]
    }
   ],
   "source": [
    "label_train,data_train=read_img_train(train_img_path)"
   ]
  },
  {
   "cell_type": "code",
   "execution_count": 7,
   "metadata": {},
   "outputs": [],
   "source": [
    "def read_img_test(test_img_path):\n",
    "    test_data=[]\n",
    "    label=[]\n",
    "    counter=0\n",
    "    for file in os.listdir(test_img_path):\n",
    "        image_data=cv2.imread(os.path.join(test_img_path,file), cv2.IMREAD_GRAYSCALE)\n",
    "        try:\n",
    "            image_data=cv2.resize(image_data,(150,150))\n",
    "            test_data.append(image_data/255)\n",
    "            if file.startswith(\"one\"):\n",
    "                label.append(1)\n",
    "            elif file.startswith(\"two\"):\n",
    "                label.append(2)\n",
    "            elif file.startswith(\"five\"):\n",
    "                label.append(0)\n",
    "        except:\n",
    "            print (\"ek gaya\")\n",
    "        counter+=1\n",
    "        if counter%4==0:\n",
    "            print (counter,\" image data retreived\")\n",
    "    return label,test_data"
   ]
  },
  {
   "cell_type": "code",
   "execution_count": 8,
   "metadata": {},
   "outputs": [
    {
     "name": "stdout",
     "output_type": "stream",
     "text": [
      "4  image data retreived\n",
      "8  image data retreived\n",
      "12  image data retreived\n"
     ]
    }
   ],
   "source": [
    "label_test,data_test=read_img_test(test_img_path)"
   ]
  },
  {
   "cell_type": "code",
   "execution_count": 9,
   "metadata": {},
   "outputs": [
    {
     "data": {
      "text/plain": [
       "[0, 0, 0, 0, 0, 1, 1, 1, 1, 1, 2, 2, 2, 2]"
      ]
     },
     "execution_count": 9,
     "metadata": {},
     "output_type": "execute_result"
    }
   ],
   "source": [
    "label_test"
   ]
  },
  {
   "cell_type": "code",
   "execution_count": 10,
   "metadata": {},
   "outputs": [],
   "source": [
    "def createModel():\n",
    "    model=Sequential()\n",
    "    model.add(Conv2D(kernel_size=(3,3),filters=32,input_shape=(150,150,1),activation=\"relu\"))\n",
    "    model.add(Conv2D(kernel_size=(3,3),filters=32,activation=\"relu\",padding=\"same\"))\n",
    "    model.add(MaxPooling2D(pool_size=(2,2),strides=(2,2)))\n",
    "    model.add(Conv2D(kernel_size=(3,3),filters=64,activation=\"relu\"))\n",
    "    model.add(Conv2D(kernel_size=(5,5),filters=64,activation=\"relu\"))\n",
    "    model.add(MaxPooling2D(pool_size=(3,3),strides=(2,2)))\n",
    "    model.add(Conv2D(kernel_size=(2,2),strides=(2,2),filters=32))\n",
    "    model.add(Flatten())\n",
    "    model.add(Dropout(0.3))\n",
    "    model.add(Dense(512,activation=\"relu\"))\n",
    "    model.add(Dense(3,activation=\"softmax\"))\n",
    "    model.summary()\n",
    "     \n",
    "    return model"
   ]
  },
  {
   "cell_type": "code",
   "execution_count": 11,
   "metadata": {},
   "outputs": [
    {
     "name": "stdout",
     "output_type": "stream",
     "text": [
      "(103, 150, 150)\n",
      "(103, 150, 150, 1)\n",
      "(103,)\n"
     ]
    },
    {
     "data": {
      "text/plain": [
       "array([0, 0, 0, 0, 0, 0, 0, 0, 0, 0, 0, 0, 0, 0, 0, 0, 0, 0, 0, 0, 0, 0,\n",
       "       0, 0, 0, 0, 0, 0, 0, 0, 0, 0, 0, 1, 1, 1, 1, 1, 1, 1, 1, 1, 1, 1,\n",
       "       1, 1, 1, 1, 1, 1, 1, 1, 1, 1, 1, 1, 1, 1, 1, 1, 1, 1, 1, 1, 1, 1,\n",
       "       1, 2, 2, 2, 2, 2, 2, 2, 2, 2, 2, 2, 2, 2, 2, 2, 2, 2, 2, 2, 2, 2,\n",
       "       2, 2, 2, 2, 2, 2, 2, 2, 2, 2, 2, 2, 2, 2, 2])"
      ]
     },
     "execution_count": 11,
     "metadata": {},
     "output_type": "execute_result"
    }
   ],
   "source": [
    "data_train=np.array(data_train)\n",
    "print (data_train.shape)\n",
    "data_train=data_train.reshape((data_train.shape)[0],(data_train.shape)[1],(data_train.shape)[2],1)\n",
    "#data1=data1/255\n",
    "label_train=np.array(label_train)\n",
    "print (data_train.shape)\n",
    "print (label_train.shape)\n",
    "label_train"
   ]
  },
  {
   "cell_type": "code",
   "execution_count": 12,
   "metadata": {},
   "outputs": [],
   "source": [
    "from keras.utils import to_categorical"
   ]
  },
  {
   "cell_type": "code",
   "execution_count": 13,
   "metadata": {},
   "outputs": [],
   "source": [
    "one_hot_labels= to_categorical(label_train[0:])"
   ]
  },
  {
   "cell_type": "code",
   "execution_count": 14,
   "metadata": {},
   "outputs": [
    {
     "data": {
      "text/plain": [
       "array([[1., 0., 0.],\n",
       "       [1., 0., 0.],\n",
       "       [1., 0., 0.],\n",
       "       [1., 0., 0.],\n",
       "       [1., 0., 0.],\n",
       "       [1., 0., 0.],\n",
       "       [1., 0., 0.],\n",
       "       [1., 0., 0.],\n",
       "       [1., 0., 0.],\n",
       "       [1., 0., 0.],\n",
       "       [1., 0., 0.],\n",
       "       [1., 0., 0.],\n",
       "       [1., 0., 0.],\n",
       "       [1., 0., 0.],\n",
       "       [1., 0., 0.],\n",
       "       [1., 0., 0.],\n",
       "       [1., 0., 0.],\n",
       "       [1., 0., 0.],\n",
       "       [1., 0., 0.],\n",
       "       [1., 0., 0.],\n",
       "       [1., 0., 0.],\n",
       "       [1., 0., 0.],\n",
       "       [1., 0., 0.],\n",
       "       [1., 0., 0.],\n",
       "       [1., 0., 0.],\n",
       "       [1., 0., 0.],\n",
       "       [1., 0., 0.],\n",
       "       [1., 0., 0.],\n",
       "       [1., 0., 0.],\n",
       "       [1., 0., 0.],\n",
       "       [1., 0., 0.],\n",
       "       [1., 0., 0.],\n",
       "       [1., 0., 0.],\n",
       "       [0., 1., 0.],\n",
       "       [0., 1., 0.],\n",
       "       [0., 1., 0.],\n",
       "       [0., 1., 0.],\n",
       "       [0., 1., 0.],\n",
       "       [0., 1., 0.],\n",
       "       [0., 1., 0.],\n",
       "       [0., 1., 0.],\n",
       "       [0., 1., 0.],\n",
       "       [0., 1., 0.],\n",
       "       [0., 1., 0.],\n",
       "       [0., 1., 0.],\n",
       "       [0., 1., 0.],\n",
       "       [0., 1., 0.],\n",
       "       [0., 1., 0.],\n",
       "       [0., 1., 0.],\n",
       "       [0., 1., 0.],\n",
       "       [0., 1., 0.],\n",
       "       [0., 1., 0.],\n",
       "       [0., 1., 0.],\n",
       "       [0., 1., 0.],\n",
       "       [0., 1., 0.],\n",
       "       [0., 1., 0.],\n",
       "       [0., 1., 0.],\n",
       "       [0., 1., 0.],\n",
       "       [0., 1., 0.],\n",
       "       [0., 1., 0.],\n",
       "       [0., 1., 0.],\n",
       "       [0., 1., 0.],\n",
       "       [0., 1., 0.],\n",
       "       [0., 1., 0.],\n",
       "       [0., 1., 0.],\n",
       "       [0., 1., 0.],\n",
       "       [0., 1., 0.],\n",
       "       [0., 0., 1.],\n",
       "       [0., 0., 1.],\n",
       "       [0., 0., 1.],\n",
       "       [0., 0., 1.],\n",
       "       [0., 0., 1.],\n",
       "       [0., 0., 1.],\n",
       "       [0., 0., 1.],\n",
       "       [0., 0., 1.],\n",
       "       [0., 0., 1.],\n",
       "       [0., 0., 1.],\n",
       "       [0., 0., 1.],\n",
       "       [0., 0., 1.],\n",
       "       [0., 0., 1.],\n",
       "       [0., 0., 1.],\n",
       "       [0., 0., 1.],\n",
       "       [0., 0., 1.],\n",
       "       [0., 0., 1.],\n",
       "       [0., 0., 1.],\n",
       "       [0., 0., 1.],\n",
       "       [0., 0., 1.],\n",
       "       [0., 0., 1.],\n",
       "       [0., 0., 1.],\n",
       "       [0., 0., 1.],\n",
       "       [0., 0., 1.],\n",
       "       [0., 0., 1.],\n",
       "       [0., 0., 1.],\n",
       "       [0., 0., 1.],\n",
       "       [0., 0., 1.],\n",
       "       [0., 0., 1.],\n",
       "       [0., 0., 1.],\n",
       "       [0., 0., 1.],\n",
       "       [0., 0., 1.],\n",
       "       [0., 0., 1.],\n",
       "       [0., 0., 1.],\n",
       "       [0., 0., 1.],\n",
       "       [0., 0., 1.]], dtype=float32)"
      ]
     },
     "execution_count": 14,
     "metadata": {},
     "output_type": "execute_result"
    }
   ],
   "source": [
    "one_hot_labels"
   ]
  },
  {
   "cell_type": "code",
   "execution_count": 15,
   "metadata": {},
   "outputs": [
    {
     "name": "stdout",
     "output_type": "stream",
     "text": [
      "(15, 150, 150)\n"
     ]
    }
   ],
   "source": [
    "data_test=np.array(data_test)\n",
    "print (data_test.shape)\n",
    "data_test=data_test.reshape((data_test.shape)[0],(data_test.shape)[1],(data_test.shape)[2],1)"
   ]
  },
  {
   "cell_type": "code",
   "execution_count": 16,
   "metadata": {},
   "outputs": [],
   "source": [
    "one_hot_labels_test= to_categorical(label_test[0:])"
   ]
  },
  {
   "cell_type": "code",
   "execution_count": 17,
   "metadata": {},
   "outputs": [
    {
     "data": {
      "text/plain": [
       "array([[1., 0., 0.],\n",
       "       [1., 0., 0.],\n",
       "       [1., 0., 0.],\n",
       "       [1., 0., 0.],\n",
       "       [1., 0., 0.],\n",
       "       [0., 1., 0.],\n",
       "       [0., 1., 0.],\n",
       "       [0., 1., 0.],\n",
       "       [0., 1., 0.],\n",
       "       [0., 1., 0.],\n",
       "       [0., 0., 1.],\n",
       "       [0., 0., 1.],\n",
       "       [0., 0., 1.],\n",
       "       [0., 0., 1.]], dtype=float32)"
      ]
     },
     "execution_count": 17,
     "metadata": {},
     "output_type": "execute_result"
    }
   ],
   "source": [
    "one_hot_labels_test"
   ]
  },
  {
   "cell_type": "code",
   "execution_count": 18,
   "metadata": {},
   "outputs": [],
   "source": [
    "from keras.preprocessing.image import ImageDataGenerator\n",
    "datagen = ImageDataGenerator(\n",
    "        zoom_range=0.2, # randomly zoom into images\n",
    "        rotation_range=10,  # randomly rotate images in the range (degrees, 0 to 180)\n",
    "        width_shift_range=0.1,  # randomly shift images horizontally (fraction of total width)\n",
    "        height_shift_range=0.1,  # randomly shift images vertically (fraction of total height)\n",
    "        horizontal_flip=True,  # randomly flip images\n",
    "        vertical_flip=False)  # randomly flip images"
   ]
  },
  {
   "cell_type": "code",
   "execution_count": 20,
   "metadata": {},
   "outputs": [
    {
     "name": "stdout",
     "output_type": "stream",
     "text": [
      "_________________________________________________________________\n",
      "Layer (type)                 Output Shape              Param #   \n",
      "=================================================================\n",
      "conv2d_6 (Conv2D)            (None, 148, 148, 32)      320       \n",
      "_________________________________________________________________\n",
      "conv2d_7 (Conv2D)            (None, 148, 148, 32)      9248      \n",
      "_________________________________________________________________\n",
      "max_pooling2d_3 (MaxPooling2 (None, 74, 74, 32)        0         \n",
      "_________________________________________________________________\n",
      "conv2d_8 (Conv2D)            (None, 72, 72, 64)        18496     \n",
      "_________________________________________________________________\n",
      "conv2d_9 (Conv2D)            (None, 68, 68, 64)        102464    \n",
      "_________________________________________________________________\n",
      "max_pooling2d_4 (MaxPooling2 (None, 33, 33, 64)        0         \n",
      "_________________________________________________________________\n",
      "conv2d_10 (Conv2D)           (None, 16, 16, 32)        8224      \n",
      "_________________________________________________________________\n",
      "flatten_2 (Flatten)          (None, 8192)              0         \n",
      "_________________________________________________________________\n",
      "dropout_2 (Dropout)          (None, 8192)              0         \n",
      "_________________________________________________________________\n",
      "dense_3 (Dense)              (None, 512)               4194816   \n",
      "_________________________________________________________________\n",
      "dense_4 (Dense)              (None, 3)                 1539      \n",
      "=================================================================\n",
      "Total params: 4,335,107\n",
      "Trainable params: 4,335,107\n",
      "Non-trainable params: 0\n",
      "_________________________________________________________________\n",
      "Epoch 1/100\n",
      "21/21 [==============================] - 21s 991ms/step - loss: 1.3070 - acc: 0.3206 - val_loss: 1.1227 - val_acc: 0.2857\n",
      "Epoch 2/100\n",
      "21/21 [==============================] - 20s 947ms/step - loss: 1.1138 - acc: 0.2920 - val_loss: 1.0869 - val_acc: 0.3571\n",
      "Epoch 3/100\n",
      "21/21 [==============================] - 19s 915ms/step - loss: 1.4370 - acc: 0.3839 - val_loss: 1.1170 - val_acc: 0.2857\n",
      "Epoch 4/100\n",
      "21/21 [==============================] - 21s 1s/step - loss: 1.1146 - acc: 0.2860 - val_loss: 1.0941 - val_acc: 0.3571\n",
      "Epoch 5/100\n",
      "21/21 [==============================] - 21s 1s/step - loss: 1.1099 - acc: 0.3302 - val_loss: 1.1024 - val_acc: 0.2857\n",
      "Epoch 6/100\n",
      "21/21 [==============================] - 20s 946ms/step - loss: 1.1399 - acc: 0.3683 - val_loss: 1.1092 - val_acc: 0.2857\n",
      "Epoch 7/100\n",
      "21/21 [==============================] - 20s 951ms/step - loss: 1.0809 - acc: 0.2955 - val_loss: 1.1456 - val_acc: 0.3571\n",
      "Epoch 8/100\n",
      "21/21 [==============================] - 19s 905ms/step - loss: 1.1153 - acc: 0.3813 - val_loss: 1.1596 - val_acc: 0.2143\n",
      "Epoch 9/100\n",
      "21/21 [==============================] - 19s 894ms/step - loss: 1.1969 - acc: 0.3718 - val_loss: 1.1546 - val_acc: 0.2857\n",
      "Epoch 10/100\n",
      "21/21 [==============================] - 20s 949ms/step - loss: 1.0619 - acc: 0.4315 - val_loss: 1.3191 - val_acc: 0.2857\n",
      "Epoch 11/100\n",
      "21/21 [==============================] - 20s 940ms/step - loss: 1.1227 - acc: 0.2981 - val_loss: 1.1374 - val_acc: 0.2857\n",
      "Epoch 12/100\n",
      "21/21 [==============================] - 19s 902ms/step - loss: 1.1431 - acc: 0.3336 - val_loss: 1.1105 - val_acc: 0.3571\n",
      "Epoch 13/100\n",
      "21/21 [==============================] - 19s 905ms/step - loss: 1.0567 - acc: 0.4125 - val_loss: 1.1538 - val_acc: 0.2857\n",
      "Epoch 14/100\n",
      "21/21 [==============================] - 20s 959ms/step - loss: 1.0598 - acc: 0.3206 - val_loss: 1.1504 - val_acc: 0.3571\n",
      "Epoch 15/100\n",
      "21/21 [==============================] - 20s 952ms/step - loss: 1.0911 - acc: 0.3969 - val_loss: 1.0861 - val_acc: 0.3571\n",
      "Epoch 16/100\n",
      "21/21 [==============================] - 19s 928ms/step - loss: 1.0641 - acc: 0.3743 - val_loss: 1.1142 - val_acc: 0.3571\n",
      "Epoch 17/100\n",
      "21/21 [==============================] - 21s 980ms/step - loss: 1.0390 - acc: 0.3588 - val_loss: 1.1089 - val_acc: 0.3571\n",
      "Epoch 18/100\n",
      "21/21 [==============================] - 19s 901ms/step - loss: 1.0113 - acc: 0.3648 - val_loss: 1.0946 - val_acc: 0.3571\n",
      "Epoch 19/100\n",
      "21/21 [==============================] - 19s 895ms/step - loss: 1.0228 - acc: 0.4411 - val_loss: 1.1086 - val_acc: 0.2857\n",
      "Epoch 20/100\n",
      "21/21 [==============================] - 19s 895ms/step - loss: 1.0544 - acc: 0.4125 - val_loss: 1.1822 - val_acc: 0.3571\n",
      "Epoch 21/100\n",
      "21/21 [==============================] - 19s 893ms/step - loss: 1.0036 - acc: 0.4159 - val_loss: 1.1717 - val_acc: 0.4286\n",
      "Epoch 22/100\n",
      "21/21 [==============================] - 19s 919ms/step - loss: 1.1200 - acc: 0.4064 - val_loss: 1.3372 - val_acc: 0.2857\n",
      "Epoch 23/100\n",
      "21/21 [==============================] - 19s 915ms/step - loss: 1.0216 - acc: 0.3743 - val_loss: 1.1412 - val_acc: 0.3571\n",
      "Epoch 24/100\n",
      "21/21 [==============================] - 20s 941ms/step - loss: 1.0012 - acc: 0.4731 - val_loss: 1.4471 - val_acc: 0.3571\n",
      "Epoch 25/100\n",
      "21/21 [==============================] - 20s 964ms/step - loss: 1.0775 - acc: 0.4125 - val_loss: 1.0972 - val_acc: 0.3571\n",
      "Epoch 26/100\n",
      "21/21 [==============================] - 20s 967ms/step - loss: 0.9888 - acc: 0.5364 - val_loss: 1.4279 - val_acc: 0.2857\n",
      "Epoch 27/100\n",
      "21/21 [==============================] - 20s 972ms/step - loss: 1.0577 - acc: 0.3622 - val_loss: 1.0850 - val_acc: 0.3571\n",
      "Epoch 28/100\n",
      "21/21 [==============================] - 20s 954ms/step - loss: 1.0577 - acc: 0.4445 - val_loss: 1.0930 - val_acc: 0.4286\n",
      "Epoch 29/100\n",
      "21/21 [==============================] - 20s 954ms/step - loss: 0.9482 - acc: 0.4445 - val_loss: 1.2274 - val_acc: 0.3571\n",
      "Epoch 30/100\n",
      "21/21 [==============================] - 20s 960ms/step - loss: 1.0417 - acc: 0.4004 - val_loss: 1.1833 - val_acc: 0.5714\n",
      "Epoch 31/100\n",
      "21/21 [==============================] - 20s 932ms/step - loss: 0.9799 - acc: 0.5269 - val_loss: 1.1059 - val_acc: 0.4286\n",
      "Epoch 32/100\n",
      "21/21 [==============================] - 20s 972ms/step - loss: 0.9325 - acc: 0.5399 - val_loss: 1.0797 - val_acc: 0.5000\n",
      "Epoch 33/100\n",
      "21/21 [==============================] - 19s 927ms/step - loss: 0.9550 - acc: 0.5329 - val_loss: 1.5584 - val_acc: 0.5000\n",
      "Epoch 34/100\n",
      "21/21 [==============================] - 20s 962ms/step - loss: 0.9528 - acc: 0.4731 - val_loss: 1.0532 - val_acc: 0.5000\n",
      "Epoch 35/100\n",
      "21/21 [==============================] - 21s 998ms/step - loss: 0.9184 - acc: 0.5494 - val_loss: 1.0053 - val_acc: 0.5714\n",
      "Epoch 36/100\n",
      "21/21 [==============================] - 21s 988ms/step - loss: 1.1292 - acc: 0.5399 - val_loss: 1.0177 - val_acc: 0.5714\n",
      "Epoch 37/100\n",
      "21/21 [==============================] - 19s 904ms/step - loss: 0.9172 - acc: 0.5364 - val_loss: 0.9834 - val_acc: 0.5714\n",
      "Epoch 38/100\n",
      "21/21 [==============================] - 19s 883ms/step - loss: 0.9839 - acc: 0.5815 - val_loss: 1.1525 - val_acc: 0.4286\n",
      "Epoch 39/100\n",
      "21/21 [==============================] - 18s 875ms/step - loss: 0.9481 - acc: 0.5399 - val_loss: 1.2301 - val_acc: 0.3571\n",
      "Epoch 40/100\n",
      "21/21 [==============================] - 19s 888ms/step - loss: 0.8363 - acc: 0.5399 - val_loss: 1.0897 - val_acc: 0.5000\n",
      "Epoch 41/100\n",
      "21/21 [==============================] - 23s 1s/step - loss: 0.9619 - acc: 0.5815 - val_loss: 1.0446 - val_acc: 0.5714\n",
      "Epoch 42/100\n",
      "21/21 [==============================] - 23s 1s/step - loss: 0.9005 - acc: 0.5494 - val_loss: 1.2262 - val_acc: 0.4286\n",
      "Epoch 43/100\n",
      "21/21 [==============================] - 19s 895ms/step - loss: 0.7963 - acc: 0.6508 - val_loss: 2.3818 - val_acc: 0.2857\n",
      "Epoch 44/100\n",
      "21/21 [==============================] - 19s 908ms/step - loss: 0.9268 - acc: 0.6282 - val_loss: 2.0471 - val_acc: 0.2857\n",
      "Epoch 45/100\n",
      "21/21 [==============================] - 19s 897ms/step - loss: 0.8691 - acc: 0.5971 - val_loss: 2.9857 - val_acc: 0.2857\n",
      "Epoch 46/100\n",
      "21/21 [==============================] - 19s 893ms/step - loss: 1.0916 - acc: 0.5936 - val_loss: 1.1335 - val_acc: 0.4286\n",
      "Epoch 47/100\n",
      "21/21 [==============================] - 20s 937ms/step - loss: 0.7493 - acc: 0.6698 - val_loss: 1.0978 - val_acc: 0.5000\n",
      "Epoch 48/100\n"
     ]
    },
    {
     "name": "stdout",
     "output_type": "stream",
     "text": [
      "21/21 [==============================] - 19s 891ms/step - loss: 0.9907 - acc: 0.6291 - val_loss: 1.6584 - val_acc: 0.5000\n",
      "Epoch 49/100\n",
      "21/21 [==============================] - 19s 921ms/step - loss: 0.7791 - acc: 0.6222 - val_loss: 1.9262 - val_acc: 0.4286\n",
      "Epoch 50/100\n",
      "21/21 [==============================] - 20s 964ms/step - loss: 0.8093 - acc: 0.6222 - val_loss: 1.5211 - val_acc: 0.5000\n",
      "Epoch 51/100\n",
      "21/21 [==============================] - 21s 977ms/step - loss: 0.7497 - acc: 0.6412 - val_loss: 1.3126 - val_acc: 0.6429\n",
      "Epoch 52/100\n",
      "21/21 [==============================] - 21s 988ms/step - loss: 0.7953 - acc: 0.6664 - val_loss: 1.7029 - val_acc: 0.3571\n",
      "Epoch 53/100\n",
      "21/21 [==============================] - 20s 945ms/step - loss: 0.9528 - acc: 0.6412 - val_loss: 1.3117 - val_acc: 0.6429\n",
      "Epoch 54/100\n",
      "21/21 [==============================] - 19s 910ms/step - loss: 0.7277 - acc: 0.7522 - val_loss: 1.6256 - val_acc: 0.4286\n",
      "Epoch 55/100\n",
      "21/21 [==============================] - 18s 876ms/step - loss: 0.8505 - acc: 0.6412 - val_loss: 1.1444 - val_acc: 0.6429\n",
      "Epoch 56/100\n",
      "21/21 [==============================] - 18s 874ms/step - loss: 0.7873 - acc: 0.6447 - val_loss: 1.1978 - val_acc: 0.6429\n",
      "Epoch 57/100\n",
      "21/21 [==============================] - 18s 878ms/step - loss: 0.8537 - acc: 0.6473 - val_loss: 0.7717 - val_acc: 0.7143\n",
      "Epoch 58/100\n",
      "21/21 [==============================] - 18s 880ms/step - loss: 0.7982 - acc: 0.5971 - val_loss: 0.8210 - val_acc: 0.5714\n",
      "Epoch 59/100\n",
      "21/21 [==============================] - 18s 874ms/step - loss: 0.6854 - acc: 0.6854 - val_loss: 0.9491 - val_acc: 0.6429\n",
      "Epoch 60/100\n",
      "21/21 [==============================] - 19s 904ms/step - loss: 0.7110 - acc: 0.6984 - val_loss: 0.7547 - val_acc: 0.6429\n",
      "Epoch 61/100\n",
      "21/21 [==============================] - 21s 1s/step - loss: 0.6075 - acc: 0.7045 - val_loss: 0.9790 - val_acc: 0.6429\n",
      "Epoch 62/100\n",
      "21/21 [==============================] - 19s 928ms/step - loss: 0.9395 - acc: 0.7114 - val_loss: 0.9488 - val_acc: 0.5714\n",
      "Epoch 63/100\n",
      "21/21 [==============================] - 19s 919ms/step - loss: 0.6872 - acc: 0.6950 - val_loss: 0.7721 - val_acc: 0.7857\n",
      "Epoch 64/100\n",
      "21/21 [==============================] - 19s 888ms/step - loss: 0.7814 - acc: 0.6317 - val_loss: 0.7367 - val_acc: 0.6429\n",
      "Epoch 65/100\n",
      "21/21 [==============================] - 18s 876ms/step - loss: 0.6817 - acc: 0.6889 - val_loss: 0.8573 - val_acc: 0.6429\n",
      "Epoch 66/100\n",
      "21/21 [==============================] - 18s 874ms/step - loss: 0.5455 - acc: 0.7998 - val_loss: 1.2600 - val_acc: 0.5714\n",
      "Epoch 67/100\n",
      "21/21 [==============================] - 21s 980ms/step - loss: 0.8886 - acc: 0.6889 - val_loss: 0.9953 - val_acc: 0.7857\n",
      "Epoch 68/100\n",
      "21/21 [==============================] - 21s 1s/step - loss: 0.7066 - acc: 0.7236 - val_loss: 2.4281 - val_acc: 0.6429\n",
      "Epoch 69/100\n",
      "21/21 [==============================] - 19s 904ms/step - loss: 0.7034 - acc: 0.6447 - val_loss: 0.9887 - val_acc: 0.6429\n",
      "Epoch 70/100\n",
      "21/21 [==============================] - 21s 987ms/step - loss: 0.5965 - acc: 0.7617 - val_loss: 0.8459 - val_acc: 0.8571\n",
      "Epoch 71/100\n",
      "21/21 [==============================] - 18s 880ms/step - loss: 0.6062 - acc: 0.7938 - val_loss: 0.6908 - val_acc: 0.6429\n",
      "Epoch 72/100\n",
      "21/21 [==============================] - 20s 960ms/step - loss: 0.9645 - acc: 0.6950 - val_loss: 1.1065 - val_acc: 0.6429\n",
      "Epoch 73/100\n",
      "21/21 [==============================] - 19s 904ms/step - loss: 0.6493 - acc: 0.7426 - val_loss: 1.0132 - val_acc: 0.7143\n",
      "Epoch 74/100\n",
      "21/21 [==============================] - 19s 886ms/step - loss: 0.5784 - acc: 0.7366 - val_loss: 1.8921 - val_acc: 0.4286\n",
      "Epoch 75/100\n",
      "21/21 [==============================] - 19s 908ms/step - loss: 0.7975 - acc: 0.7175 - val_loss: 2.2930 - val_acc: 0.4286\n",
      "Epoch 76/100\n",
      "21/21 [==============================] - 21s 1s/step - loss: 0.7657 - acc: 0.7842 - val_loss: 0.9562 - val_acc: 0.7143\n",
      "Epoch 77/100\n",
      "21/21 [==============================] - 21s 1s/step - loss: 0.5527 - acc: 0.7938 - val_loss: 1.1657 - val_acc: 0.7143\n",
      "Epoch 78/100\n",
      "21/21 [==============================] - 18s 880ms/step - loss: 0.4863 - acc: 0.8189 - val_loss: 1.2635 - val_acc: 0.7143\n",
      "Epoch 79/100\n",
      "21/21 [==============================] - 20s 941ms/step - loss: 0.5192 - acc: 0.7712 - val_loss: 1.2139 - val_acc: 0.6429\n",
      "Epoch 80/100\n",
      "21/21 [==============================] - 20s 968ms/step - loss: 0.6775 - acc: 0.7331 - val_loss: 1.0962 - val_acc: 0.7143\n",
      "Epoch 81/100\n",
      "21/21 [==============================] - 19s 920ms/step - loss: 0.4157 - acc: 0.8380 - val_loss: 1.1251 - val_acc: 0.5714\n",
      "Epoch 82/100\n",
      "21/21 [==============================] - 19s 893ms/step - loss: 0.7752 - acc: 0.7244 - val_loss: 0.6328 - val_acc: 0.7857\n",
      "Epoch 83/100\n",
      "21/21 [==============================] - 20s 948ms/step - loss: 0.5850 - acc: 0.8189 - val_loss: 0.7061 - val_acc: 0.7143\n",
      "Epoch 84/100\n",
      "21/21 [==============================] - 19s 903ms/step - loss: 0.5146 - acc: 0.7652 - val_loss: 0.2886 - val_acc: 0.8571\n",
      "Epoch 85/100\n",
      "21/21 [==============================] - 19s 886ms/step - loss: 0.4542 - acc: 0.8284 - val_loss: 1.2424 - val_acc: 0.5714\n",
      "Epoch 86/100\n",
      "21/21 [==============================] - 19s 896ms/step - loss: 0.3879 - acc: 0.8449 - val_loss: 0.5412 - val_acc: 0.7143\n",
      "Epoch 87/100\n",
      "21/21 [==============================] - 19s 884ms/step - loss: 0.7542 - acc: 0.7652 - val_loss: 0.8879 - val_acc: 0.7143\n",
      "Epoch 88/100\n",
      "21/21 [==============================] - 19s 910ms/step - loss: 0.5445 - acc: 0.7652 - val_loss: 0.9529 - val_acc: 0.8571\n",
      "Epoch 89/100\n",
      "21/21 [==============================] - 21s 1s/step - loss: 0.4913 - acc: 0.8380 - val_loss: 1.1248 - val_acc: 0.7143\n",
      "Epoch 90/100\n",
      "21/21 [==============================] - 21s 982ms/step - loss: 0.4868 - acc: 0.7712 - val_loss: 1.4804 - val_acc: 0.5714\n",
      "Epoch 91/100\n",
      "21/21 [==============================] - 19s 896ms/step - loss: 0.4497 - acc: 0.8414 - val_loss: 1.9521 - val_acc: 0.5714\n",
      "Epoch 92/100\n",
      "21/21 [==============================] - 19s 898ms/step - loss: 0.5790 - acc: 0.7366 - val_loss: 0.8317 - val_acc: 0.7143\n",
      "Epoch 93/100\n",
      "21/21 [==============================] - 19s 891ms/step - loss: 0.5108 - acc: 0.8033 - val_loss: 0.8352 - val_acc: 0.7857\n",
      "Epoch 94/100\n",
      "21/21 [==============================] - 20s 933ms/step - loss: 0.3662 - acc: 0.8605 - val_loss: 0.7331 - val_acc: 0.7857\n",
      "Epoch 95/100\n",
      "21/21 [==============================] - 19s 915ms/step - loss: 0.4236 - acc: 0.8570 - val_loss: 1.7228 - val_acc: 0.7857\n",
      "Epoch 96/100\n",
      "21/21 [==============================] - 21s 1s/step - loss: 0.4177 - acc: 0.8380 - val_loss: 1.4440 - val_acc: 0.7857\n",
      "Epoch 97/100\n",
      "21/21 [==============================] - 19s 905ms/step - loss: 0.2910 - acc: 0.8951 - val_loss: 0.9757 - val_acc: 0.7857\n",
      "Epoch 98/100\n",
      "21/21 [==============================] - 20s 932ms/step - loss: 0.4040 - acc: 0.8856 - val_loss: 1.1427 - val_acc: 0.7143\n",
      "Epoch 99/100\n",
      "21/21 [==============================] - 20s 971ms/step - loss: 0.3525 - acc: 0.8354 - val_loss: 1.7654 - val_acc: 0.7857\n",
      "Epoch 100/100\n",
      "21/21 [==============================] - 21s 991ms/step - loss: 0.4370 - acc: 0.8380 - val_loss: 1.1937 - val_acc: 0.6429\n"
     ]
    }
   ],
   "source": [
    "model1 = createModel()\n",
    "batch_size = 5\n",
    "epochs = 100\n",
    "model1.compile(optimizer='rmsprop', loss='categorical_crossentropy', metrics=['accuracy'])\n",
    " \n",
    "history = model1.fit_generator(datagen.flow(data_train,one_hot_labels, batch_size=batch_size),steps_per_epoch=int(np.ceil(data_train.shape[0] / float(batch_size))), epochs=epochs, verbose=1,validation_data=(data_test[:-1],one_hot_labels_test))\n",
    " \n",
    "#model1.evaluate(data_test, label_test)"
   ]
  },
  {
   "cell_type": "code",
   "execution_count": 21,
   "metadata": {},
   "outputs": [],
   "source": [
    "predicted_labels=model1.predict(data_test)"
   ]
  },
  {
   "cell_type": "code",
   "execution_count": 22,
   "metadata": {},
   "outputs": [
    {
     "data": {
      "text/plain": [
       "array([[9.97460365e-01, 3.03123193e-06, 2.53660395e-03],\n",
       "       [1.09691719e-05, 9.99987364e-01, 1.68595113e-06],\n",
       "       [9.81412053e-01, 9.44703538e-03, 9.14096367e-03],\n",
       "       [6.81283057e-01, 9.23058391e-03, 3.09486389e-01],\n",
       "       [3.80084693e-01, 4.91115414e-02, 5.70803761e-01],\n",
       "       [2.33788978e-19, 1.00000000e+00, 7.22401321e-20],\n",
       "       [2.32178599e-01, 1.96924970e-01, 5.70896387e-01],\n",
       "       [1.59996268e-12, 9.99840260e-01, 1.59673160e-04],\n",
       "       [7.19417483e-02, 2.26500511e-01, 7.01557755e-01],\n",
       "       [1.02943578e-03, 9.98970270e-01, 4.16565342e-07],\n",
       "       [2.03113395e-05, 5.30929327e-08, 9.99979615e-01],\n",
       "       [7.46733323e-02, 4.94920241e-04, 9.24831748e-01],\n",
       "       [1.66111533e-02, 5.01122355e-01, 4.82266456e-01],\n",
       "       [4.11030276e-09, 4.54326909e-07, 9.99999523e-01],\n",
       "       [8.63138795e-01, 1.27868745e-02, 1.24074325e-01]], dtype=float32)"
      ]
     },
     "execution_count": 22,
     "metadata": {},
     "output_type": "execute_result"
    }
   ],
   "source": [
    "predicted_labels"
   ]
  },
  {
   "cell_type": "code",
   "execution_count": 23,
   "metadata": {},
   "outputs": [],
   "source": [
    "predicted_labels=np.round(predicted_labels,decimals=2)"
   ]
  },
  {
   "cell_type": "code",
   "execution_count": 24,
   "metadata": {},
   "outputs": [
    {
     "data": {
      "text/plain": [
       "array([[1.  , 0.  , 0.  ],\n",
       "       [0.  , 1.  , 0.  ],\n",
       "       [0.98, 0.01, 0.01],\n",
       "       [0.68, 0.01, 0.31],\n",
       "       [0.38, 0.05, 0.57],\n",
       "       [0.  , 1.  , 0.  ],\n",
       "       [0.23, 0.2 , 0.57],\n",
       "       [0.  , 1.  , 0.  ],\n",
       "       [0.07, 0.23, 0.7 ],\n",
       "       [0.  , 1.  , 0.  ],\n",
       "       [0.  , 0.  , 1.  ],\n",
       "       [0.07, 0.  , 0.92],\n",
       "       [0.02, 0.5 , 0.48],\n",
       "       [0.  , 0.  , 1.  ],\n",
       "       [0.86, 0.01, 0.12]], dtype=float32)"
      ]
     },
     "execution_count": 24,
     "metadata": {},
     "output_type": "execute_result"
    }
   ],
   "source": [
    "predicted_labels"
   ]
  },
  {
   "cell_type": "code",
   "execution_count": 25,
   "metadata": {},
   "outputs": [
    {
     "name": "stdout",
     "output_type": "stream",
     "text": [
      "\r",
      "14/14 [==============================] - 1s 47ms/step\n"
     ]
    },
    {
     "data": {
      "text/plain": [
       "[1.193672776222229, 0.6428571343421936]"
      ]
     },
     "execution_count": 25,
     "metadata": {},
     "output_type": "execute_result"
    }
   ],
   "source": [
    "model1.evaluate(data_test[0:-1],one_hot_labels_test)"
   ]
  },
  {
   "cell_type": "code",
   "execution_count": 26,
   "metadata": {},
   "outputs": [
    {
     "name": "stdout",
     "output_type": "stream",
     "text": [
      "['loss', 'acc']\n"
     ]
    }
   ],
   "source": [
    "print(model1.metrics_names)"
   ]
  },
  {
   "cell_type": "code",
   "execution_count": null,
   "metadata": {},
   "outputs": [],
   "source": []
  }
 ],
 "metadata": {
  "kernelspec": {
   "display_name": "Python 3",
   "language": "python",
   "name": "python3"
  },
  "language_info": {
   "codemirror_mode": {
    "name": "ipython",
    "version": 3
   },
   "file_extension": ".py",
   "mimetype": "text/x-python",
   "name": "python",
   "nbconvert_exporter": "python",
   "pygments_lexer": "ipython3",
   "version": "3.5.6"
  }
 },
 "nbformat": 4,
 "nbformat_minor": 2
}
